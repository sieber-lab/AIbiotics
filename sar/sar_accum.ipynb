{
 "cells": [
  {
   "cell_type": "code",
   "execution_count": 2,
   "metadata": {},
   "outputs": [],
   "source": [
    "import pandas as pd\n",
    "import numpy as np\n",
    "from rdkit import Chem\n",
    "from rdkit.Chem import AllChem\n",
    "from autogluon.tabular import TabularPredictor\n",
    "from skfp.preprocessing import *\n",
    "from skfp.fingerprints import MordredFingerprint, ECFPFingerprint, PharmacophoreFingerprint, PhysiochemicalPropertiesFingerprint"
   ]
  },
  {
   "cell_type": "code",
   "execution_count": 46,
   "metadata": {},
   "outputs": [],
   "source": [
    "origin = pd.read_csv(\"../data/derivatives/3-(5-Nitro-2-furyl)acrylic acid.txt\", header=None, sep=\"\\t\", dtype=\"object\").values[0][0]\n",
    "\n",
    "derivatives = pd.read_csv(\"../data/derivatives/Combination products without salts.txt\", header=None, sep=\"\\t\", dtype=\"object\")\n",
    "derivatives.columns = [\"smiles\"]\n",
    "derivatives[\"No.\"] = range(1, len(derivatives) + 1)\n",
    "\n",
    "data = pd.read_csv(\"../data/entry_dataset/merged_cleaned_dataset.csv\")\n",
    "data = data[[\"smiles\", \"Accum_class\"]]\n",
    "data.rename(columns={\"Accum_class\": \"label\"}, inplace=True)\n",
    "label_dict = {\"low\": 0, \"high\": 1}\n",
    "data[\"label\"] = data[\"label\"].map(label_dict)"
   ]
  },
  {
   "cell_type": "code",
   "execution_count": 48,
   "metadata": {},
   "outputs": [
    {
     "data": {
      "text/html": [
       "<div>\n",
       "<style scoped>\n",
       "    .dataframe tbody tr th:only-of-type {\n",
       "        vertical-align: middle;\n",
       "    }\n",
       "\n",
       "    .dataframe tbody tr th {\n",
       "        vertical-align: top;\n",
       "    }\n",
       "\n",
       "    .dataframe thead th {\n",
       "        text-align: right;\n",
       "    }\n",
       "</style>\n",
       "<table border=\"1\" class=\"dataframe\">\n",
       "  <thead>\n",
       "    <tr style=\"text-align: right;\">\n",
       "      <th></th>\n",
       "      <th>smiles</th>\n",
       "      <th>No.</th>\n",
       "    </tr>\n",
       "  </thead>\n",
       "  <tbody>\n",
       "    <tr>\n",
       "      <th>0</th>\n",
       "      <td>CCNC(/C=C/C1=CC=C(O1)[N+]([O-])=O)=O</td>\n",
       "      <td>1</td>\n",
       "    </tr>\n",
       "    <tr>\n",
       "      <th>1</th>\n",
       "      <td>CN(C(/C=C/C1=CC=C(O1)[N+]([O-])=O)=O)N</td>\n",
       "      <td>2</td>\n",
       "    </tr>\n",
       "    <tr>\n",
       "      <th>2</th>\n",
       "      <td>CNNC(/C=C/C1=CC=C(O1)[N+]([O-])=O)=O</td>\n",
       "      <td>3</td>\n",
       "    </tr>\n",
       "    <tr>\n",
       "      <th>3</th>\n",
       "      <td>O=C(NC1CC1)/C=C/C2=CC=C(O2)[N+]([O-])=O</td>\n",
       "      <td>4</td>\n",
       "    </tr>\n",
       "    <tr>\n",
       "      <th>4</th>\n",
       "      <td>CC(NC(/C=C/C1=CC=C(O1)[N+]([O-])=O)=O)C</td>\n",
       "      <td>5</td>\n",
       "    </tr>\n",
       "    <tr>\n",
       "      <th>...</th>\n",
       "      <td>...</td>\n",
       "      <td>...</td>\n",
       "    </tr>\n",
       "    <tr>\n",
       "      <th>187</th>\n",
       "      <td>O=C(N1CCN(c(ccc2)c3c2scc3)CC1)/C=C/C4=CC=C(O4)[N+]([O-])=O</td>\n",
       "      <td>188</td>\n",
       "    </tr>\n",
       "    <tr>\n",
       "      <th>188</th>\n",
       "      <td>N(C(/C=C/C1=CC=C(O1)[N+]([O-])=O)=O)Cc2ccccc2n3c(C)ncc3</td>\n",
       "      <td>189</td>\n",
       "    </tr>\n",
       "    <tr>\n",
       "      <th>189</th>\n",
       "      <td>O=C(N(Cc1ccncc1)CC2OCCC2)/C=C/C3=CC=C(O3)[N+]([O-])=O</td>\n",
       "      <td>190</td>\n",
       "    </tr>\n",
       "    <tr>\n",
       "      <th>190</th>\n",
       "      <td>[O-][N+](C(O1)=CC=C1/C=C/C(NC(C)c2ccc(N3CCCCC3)cc2)=O)=O</td>\n",
       "      <td>191</td>\n",
       "    </tr>\n",
       "    <tr>\n",
       "      <th>191</th>\n",
       "      <td>CN(C(/C=C/C1=CC=C(O1)[N+]([O-])=O)=O)Cc2ccc(n3nccc3)cc2</td>\n",
       "      <td>192</td>\n",
       "    </tr>\n",
       "  </tbody>\n",
       "</table>\n",
       "<p>192 rows × 2 columns</p>\n",
       "</div>"
      ],
      "text/plain": [
       "                                                         smiles  No.\n",
       "0                          CCNC(/C=C/C1=CC=C(O1)[N+]([O-])=O)=O    1\n",
       "1                        CN(C(/C=C/C1=CC=C(O1)[N+]([O-])=O)=O)N    2\n",
       "2                          CNNC(/C=C/C1=CC=C(O1)[N+]([O-])=O)=O    3\n",
       "3                       O=C(NC1CC1)/C=C/C2=CC=C(O2)[N+]([O-])=O    4\n",
       "4                       CC(NC(/C=C/C1=CC=C(O1)[N+]([O-])=O)=O)C    5\n",
       "..                                                          ...  ...\n",
       "187  O=C(N1CCN(c(ccc2)c3c2scc3)CC1)/C=C/C4=CC=C(O4)[N+]([O-])=O  188\n",
       "188     N(C(/C=C/C1=CC=C(O1)[N+]([O-])=O)=O)Cc2ccccc2n3c(C)ncc3  189\n",
       "189       O=C(N(Cc1ccncc1)CC2OCCC2)/C=C/C3=CC=C(O3)[N+]([O-])=O  190\n",
       "190    [O-][N+](C(O1)=CC=C1/C=C/C(NC(C)c2ccc(N3CCCCC3)cc2)=O)=O  191\n",
       "191     CN(C(/C=C/C1=CC=C(O1)[N+]([O-])=O)=O)Cc2ccc(n3nccc3)cc2  192\n",
       "\n",
       "[192 rows x 2 columns]"
      ]
     },
     "execution_count": 48,
     "metadata": {},
     "output_type": "execute_result"
    }
   ],
   "source": [
    "derivatives"
   ]
  },
  {
   "cell_type": "code",
   "execution_count": 49,
   "metadata": {},
   "outputs": [],
   "source": [
    "def smiles2smiles(smiles):\n",
    "    try:\n",
    "        mol = Chem.MolFromSmiles(smiles)\n",
    "        return str(Chem.MolToSmiles(mol))\n",
    "    except:\n",
    "        return None"
   ]
  },
  {
   "cell_type": "code",
   "execution_count": 50,
   "metadata": {},
   "outputs": [
    {
     "name": "stderr",
     "output_type": "stream",
     "text": [
      "[16:48:24] Can't kekulize mol.  Unkekulized atoms: 3 4 5 6 7\n",
      "[16:48:24] Can't kekulize mol.  Unkekulized atoms: 3 4 5 6 7\n",
      "[16:48:24] Can't kekulize mol.  Unkekulized atoms: 4 5 6 7 8\n",
      "[16:48:24] Can't kekulize mol.  Unkekulized atoms: 3 4 5 6 7 8 9 10 11\n",
      "[16:48:24] Can't kekulize mol.  Unkekulized atoms: 5 6 7 8 9 10 11 12 13\n",
      "[16:48:24] Can't kekulize mol.  Unkekulized atoms: 15 16 17 18 19\n"
     ]
    }
   ],
   "source": [
    "# Clean smiles\n",
    "\n",
    "data[\"smiles\"] = [smiles2smiles(smiles) for smiles in data[\"smiles\"]]\n",
    "data = data.drop_duplicates().dropna()\n",
    "data.reset_index(drop=True, inplace=True)\n",
    "\n",
    "derivatives[\"smiles\"] = [smiles2smiles(smiles) for smiles in derivatives[\"smiles\"]]\n",
    "derivatives = derivatives.drop_duplicates().dropna()\n",
    "derivatives.reset_index(drop=True, inplace=True)"
   ]
  },
  {
   "cell_type": "code",
   "execution_count": 52,
   "metadata": {},
   "outputs": [],
   "source": [
    "fp_gen = {\n",
    "    \"Mordred\": MordredFingerprint(use_3D=True, n_jobs=32),\n",
    "    \"ECFP\": ECFPFingerprint(1024, n_jobs=32),\n",
    "    # \"Pharmacophore\": PharmacophoreFingerprint(fp_size=1024, n_jobs=32),\n",
    "    \"Physiochemical\": PhysiochemicalPropertiesFingerprint(1024, n_jobs=32)\n",
    "}"
   ]
  },
  {
   "cell_type": "code",
   "execution_count": 53,
   "metadata": {},
   "outputs": [],
   "source": [
    "data_fp_dict = {}\n",
    "derivatives_fp_dict = {}\n",
    "for fp_name, gen in fp_gen.items():\n",
    "    data_fp_dict[fp_name] = gen.transform(data[\"smiles\"])\n",
    "    derivatives_fp_dict[fp_name] = gen.transform(derivatives[\"smiles\"])\n",
    "    \n",
    "    assert data_fp_dict[fp_name].shape[0] == len(data)\n",
    "    # assert not np.any(np.isnan(data_fp_dict[fp_name]))\n",
    "    assert derivatives_fp_dict[fp_name].shape[0] == len(derivatives)\n",
    "    # assert not np.any(np.isnan(derivatives_fp_dict[fp_name]))"
   ]
  },
  {
   "cell_type": "code",
   "execution_count": 54,
   "metadata": {},
   "outputs": [
    {
     "name": "stdout",
     "output_type": "stream",
     "text": [
      "Mordred\n",
      "47389\n"
     ]
    },
    {
     "name": "stderr",
     "output_type": "stream",
     "text": [
      "\tWarning: Exception caused NeuralNetTorch to fail during training... Skipping this model.\n",
      "\t\tColumnTransformer.__init__() got an unexpected keyword argument 'force_int_remainder_cols'\n"
     ]
    },
    {
     "name": "stdout",
     "output_type": "stream",
     "text": [
      "ECFP\n",
      "0\n"
     ]
    },
    {
     "name": "stderr",
     "output_type": "stream",
     "text": [
      "\tWarning: Exception caused NeuralNetTorch to fail during training... Skipping this model.\n",
      "\t\tColumnTransformer.__init__() got an unexpected keyword argument 'force_int_remainder_cols'\n"
     ]
    },
    {
     "name": "stdout",
     "output_type": "stream",
     "text": [
      "Physiochemical\n",
      "0\n"
     ]
    },
    {
     "name": "stderr",
     "output_type": "stream",
     "text": [
      "\tWarning: Exception caused NeuralNetTorch to fail during training... Skipping this model.\n",
      "\t\tColumnTransformer.__init__() got an unexpected keyword argument 'force_int_remainder_cols'\n"
     ]
    }
   ],
   "source": [
    "for fp_type in fp_gen.keys():\n",
    "    print(fp_type)\n",
    "    train_df = pd.DataFrame(data_fp_dict[fp_type])\n",
    "    train_df[\"label\"] = data[\"label\"]\n",
    "    print(train_df.isna().sum().sum())\n",
    "    predictor = TabularPredictor(label=\"label\", eval_metric=\"average_precision\", verbosity=0).fit(train_df)\n",
    "\n",
    "    pred_df = pd.DataFrame(derivatives_fp_dict[fp_type])\n",
    "    preds = predictor.predict_proba(pred_df)\n",
    "    \n",
    "    assert preds.isna().sum().sum() == 0\n",
    "    derivatives[fp_type] = preds[1]"
   ]
  },
  {
   "cell_type": "code",
   "execution_count": 55,
   "metadata": {},
   "outputs": [],
   "source": [
    "derivatives[\"total\"] = derivatives[fp_gen.keys()].mean(axis=1)\n",
    "derivatives.sort_values(\"total\", ascending=False, inplace=True)"
   ]
  },
  {
   "cell_type": "code",
   "execution_count": 57,
   "metadata": {},
   "outputs": [],
   "source": [
    "derivatives.to_csv(\"derivatives_predictions.csv\", index=False)"
   ]
  }
 ],
 "metadata": {
  "kernelspec": {
   "display_name": "Python 3 (ipykernel)",
   "language": "python",
   "name": "python3"
  }
 },
 "nbformat": 4,
 "nbformat_minor": 2
}
