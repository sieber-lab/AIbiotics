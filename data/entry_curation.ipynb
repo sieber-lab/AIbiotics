{
 "cells": [
  {
   "cell_type": "code",
   "execution_count": null,
   "id": "initial_id",
   "metadata": {
    "ExecuteTime": {
     "end_time": "2024-04-08T10:43:10.238008Z",
     "start_time": "2024-04-08T10:43:10.234923Z"
    },
    "collapsed": true
   },
   "outputs": [],
   "source": [
    "import pandas as pd\n",
    "import numpy as np\n",
    "import os\n",
    "import sys\n",
    "\n",
    "from rdkit import Chem\n",
    "from rdkit.Chem import AllChem\n",
    "\n",
    "from chembl_structure_pipeline import standardizer"
   ]
  },
  {
   "cell_type": "code",
   "execution_count": null,
   "id": "fd6db993edc05dd6",
   "metadata": {
    "ExecuteTime": {
     "end_time": "2024-04-08T10:43:10.569790Z",
     "start_time": "2024-04-08T10:43:10.435712Z"
    },
    "collapsed": false
   },
   "outputs": [],
   "source": [
    "path = \"entry_dataset\"\n",
    "merged_df = pd.DataFrame()\n",
    "for filename in os.listdir(path):\n",
    "    print(filename)\n",
    "    df = pd.read_csv(path + \"/\" + filename)\n",
    "    merged_df = pd.concat([merged_df, df], ignore_index=True)"
   ]
  },
  {
   "cell_type": "code",
   "execution_count": null,
   "id": "524eeb3994e7ef27",
   "metadata": {
    "ExecuteTime": {
     "end_time": "2024-04-08T10:43:10.651049Z",
     "start_time": "2024-04-08T10:43:10.645858Z"
    },
    "collapsed": false
   },
   "outputs": [],
   "source": [
    "merged_df.dropna(subset=[\"Accum_class\"], inplace=True)"
   ]
  },
  {
   "cell_type": "code",
   "execution_count": null,
   "id": "cc88e8bd4ce1ee0e",
   "metadata": {
    "ExecuteTime": {
     "end_time": "2024-04-08T10:43:10.777980Z",
     "start_time": "2024-04-08T10:43:10.773596Z"
    },
    "collapsed": false
   },
   "outputs": [],
   "source": [
    "merged_df[\"Accum_class\"] = merged_df[\"Accum_class\"].str.lower()"
   ]
  },
  {
   "cell_type": "code",
   "execution_count": null,
   "id": "6dc25a91eb01126f",
   "metadata": {
    "ExecuteTime": {
     "end_time": "2024-04-08T10:43:14.575538Z",
     "start_time": "2024-04-08T10:43:14.569335Z"
    },
    "collapsed": false
   },
   "outputs": [],
   "source": [
    "merged_df.drop_duplicates(subset=[\"Accum_class\", \"smiles\"], inplace=True)\n",
    "merged_df.dropna(subset=[\"smiles\"], inplace=True)"
   ]
  },
  {
   "cell_type": "code",
   "execution_count": null,
   "id": "15336a3d20426a30",
   "metadata": {
    "ExecuteTime": {
     "end_time": "2024-04-08T10:43:46.253965Z",
     "start_time": "2024-04-08T10:43:46.248375Z"
    },
    "collapsed": false
   },
   "outputs": [],
   "source": [
    "accumulators = merged_df[merged_df[\"Accum_class\"] == \"high\"]\n",
    "non_accumulators = merged_df[merged_df[\"Accum_class\"] == \"low\"]"
   ]
  },
  {
   "cell_type": "code",
   "execution_count": null,
   "id": "c95f5fa45cf8f34c",
   "metadata": {
    "ExecuteTime": {
     "end_time": "2024-04-08T10:46:41.387835Z",
     "start_time": "2024-04-08T10:46:41.381638Z"
    },
    "collapsed": false
   },
   "outputs": [],
   "source": [
    "# rename columns to Smiles\n",
    "accumulators.rename(columns={\"smiles\": \"Smiles\"}, inplace=True)\n",
    "non_accumulators.rename(columns={\"smiles\": \"Smiles\"}, inplace=True)"
   ]
  },
  {
   "cell_type": "code",
   "execution_count": null,
   "id": "55366281f637c488",
   "metadata": {
    "ExecuteTime": {
     "end_time": "2024-04-08T10:46:58.371264Z",
     "start_time": "2024-04-08T10:46:58.317824Z"
    },
    "collapsed": false
   },
   "outputs": [],
   "source": [
    "accumulators.Smiles.to_csv(\"entry_dataset/accumulators_smiles.csv\", index=False)\n",
    "non_accumulators.Smiles.to_csv(\"entry_dataset/non_accumulators_smiles.csv\", index=False)"
   ]
  },
  {
   "cell_type": "code",
   "execution_count": null,
   "id": "1473fffdd7130040",
   "metadata": {
    "collapsed": false
   },
   "outputs": [],
   "source": [
    "SMILES_CACHE = {}\n",
    "\n",
    "def get_clean_smiles(smiles):\n",
    "    if smiles in SMILES_CACHE:\n",
    "        return SMILES_CACHE[smiles]\n",
    "    try:\n",
    "        mol = Chem.MolFromSmiles(smiles)\n",
    "        molblock = Chem.MolToMolBlock(mol)\n",
    "        std_molblock = standardizer.standardize_molblock(molblock)\n",
    "        parent_molblock, _ = standardizer.get_parent_molblock(std_molblock)\n",
    "        parent_mol = Chem.MolFromMolBlock(parent_molblock)\n",
    "        clean_smiles = Chem.MolToSmiles(parent_mol)\n",
    "        SMILES_CACHE[smiles] = clean_smiles\n",
    "        return clean_smiles\n",
    "    except:\n",
    "        SMILES_CACHE[smiles] = None\n",
    "        return None\n",
    "    \n",
    "merged_df[\"Smiles\"] = merged_df[\"Smiles\"].apply(get_clean_smiles)\n",
    "merged_df.dropna(subset=[\"Smiles\"], inplace=True)"
   ]
  },
  {
   "cell_type": "code",
   "execution_count": null,
   "id": "af10e0b7",
   "metadata": {},
   "outputs": [],
   "source": [
    "merged_df.to_csv(\"entry_dataset/merged_cleaned_dataset.csv\", index=False)"
   ]
  }
 ],
 "metadata": {
  "kernelspec": {
   "display_name": "tox",
   "language": "python",
   "name": "tox"
  },
  "language_info": {
   "codemirror_mode": {
    "name": "ipython",
    "version": 2
   },
   "file_extension": ".py",
   "mimetype": "text/x-python",
   "name": "python",
   "nbconvert_exporter": "python",
   "pygments_lexer": "ipython2",
   "version": "2.7.6"
  }
 },
 "nbformat": 4,
 "nbformat_minor": 5
}
